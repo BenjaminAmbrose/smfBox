{
 "cells": [
  {
   "cell_type": "markdown",
   "metadata": {},
   "source": [
    "# Converting multiple TXT's straight off the acquisition computer to individual HDF5's\n",
    "\n",
    "This notebook will convert a whole folder of files each to their respective HDF5's, incorporating metadata. It works off the existing file structure created by labview saving."
   ]
  },
  {
   "cell_type": "code",
   "execution_count": 1,
   "metadata": {
    "collapsed": true
   },
   "outputs": [],
   "source": [
    "import phconvert as phc\n",
    "import csv\n",
    "phc.__version__\n",
    "import numpy as np\n",
    "import os"
   ]
  },
  {
   "cell_type": "markdown",
   "metadata": {},
   "source": [
    "Point this at a folder which contains folders, which contain data and metadata files together. It will find the data files and metadata files in each folder and create a single HDF5 for each, named according the name you gave the data file (it will automatically chop off the annoying numbers at the beginning and end)."
   ]
  },
  {
   "cell_type": "code",
   "execution_count": 5,
   "metadata": {
    "collapsed": true
   },
   "outputs": [],
   "source": [
    "parentfolder = \"definitiveset/\" #THE DASH AT THE END IS IMPORTANT"
   ]
  },
  {
   "cell_type": "code",
   "execution_count": 6,
   "metadata": {},
   "outputs": [
    {
     "name": "stdout",
     "output_type": "stream",
     "text": [
      "Converting 1A0\n",
      "Done\n",
      "Saving: definitiveset/1A0.hdf5\n",
      "Converting 1A1\n",
      "Done\n",
      "Saving: definitiveset/1A1.hdf5\n",
      "Converting 1A2\n",
      "Done\n",
      "Saving: definitiveset/1A2.hdf5\n",
      "Converting 1B1\n",
      "Done\n",
      "Saving: definitiveset/1B1.hdf5\n",
      "Converting 1B2\n",
      "Done\n",
      "Saving: definitiveset/1B2.hdf5\n",
      "Converting 1C1\n",
      "Done\n",
      "Saving: definitiveset/1C1.hdf5\n",
      "Converting 1C2\n",
      "Done\n",
      "Saving: definitiveset/1C2.hdf5\n",
      "Converting 6A1\n",
      "Done\n",
      "Saving: definitiveset/6A1.hdf5\n",
      "All complete\n"
     ]
    }
   ],
   "source": [
    "for folder in next(os.walk(parentfolder))[1]:\n",
    "    filenames = []\n",
    "    for file in os.listdir(parentfolder+folder):        \n",
    "        if file.endswith(\"T.txt\"):\n",
    "            filenames.append(file)\n",
    "        if file.endswith(\"etadata.txt\"):\n",
    "            metafile = os.path.join(parentfolder+folder+\"/\"+file)\n",
    "        else:\n",
    "            continue\n",
    "    savename = os.path.join(parentfolder+filenames[0][:-8][4:]+\".hdf5\")\n",
    "    detectors = np.empty([0], dtype=int)\n",
    "    timestamps = np.empty([0], dtype=int)\n",
    "    print(\"Converting \" + filenames[0][:-8][4:])\n",
    "    for x in filenames:\n",
    "        file = os.path.join(parentfolder+folder+\"/\"+x)\n",
    "        with open(file) as inf:\n",
    "            reader = csv.reader(inf, delimiter=\"\t\")\n",
    "            ftimestamps = list(zip(*reader))[0]    \n",
    "        with open(file) as inf:\n",
    "            reader = csv.reader(inf, delimiter=\"\t\")\n",
    "            fdetectors = list(zip(*reader))[1]\n",
    "        fdetectors = np.asarray(fdetectors)\n",
    "        ftimestamps = np.asarray(ftimestamps)\n",
    "        ftimestamps = np.int64(ftimestamps)\n",
    "        fdetectors = np.uint8(fdetectors)\n",
    "        timestamps = np.concatenate([timestamps, ftimestamps])\n",
    "        detectors = np.concatenate([detectors, fdetectors]) \n",
    "    timestamps = np.int64(timestamps)\n",
    "    detectors = np.uint8(detectors)\n",
    "    with open(metafile) as inf:\n",
    "            reader = csv.reader(inf, delimiter=\":\")\n",
    "            metaread = list(zip(*reader))\n",
    "    meta = [x[1:] for x in metaread[1]]\n",
    "    #D_ON, D_OFF, A_ON, A_OFF = int(meta[10]), int(meta[11]), int(meta[12]), int(meta[13])\n",
    "    D_ON, D_OFF, A_ON, A_OFF = 0, 4500, 5000, 9500\n",
    "    sample_name = meta[5]\n",
    "    buffer_name = meta[8]\n",
    "    dye_names = meta[6] + \",\" + meta[7]\n",
    "    timestamps_unit = 10e-9  # 10 ns, units are always S.I.\n",
    "    photon_data = dict(\n",
    "        timestamps=timestamps,\n",
    "        detectors=detectors,\n",
    "        timestamps_specs={'timestamps_unit': timestamps_unit})\n",
    "    setup = dict(\n",
    "        num_pixels = 2,                   # using 2 detectors\n",
    "        num_spots = 1,                    # a single confoca excitation\n",
    "        num_spectral_ch = 2,              # donor and acceptor detection \n",
    "        num_polarization_ch = 1,          # no polarization selection \n",
    "        num_split_ch = 1,                 # no beam splitter\n",
    "        modulated_excitation = False,     # CW excitation, no modulation \n",
    "        excitation_alternated = [True],  # CW excitation, no modulation \n",
    "        lifetime = False,                 # no TCSPC in detection    \n",
    "        excitation_wavelengths = [515e-9, 635e-9],         # List of excitation wavelenghts\n",
    "        excitation_cw = [True],                    # List of booleans, True if wavelength is CW\n",
    "        detection_wavelengths = [580e-9, 690e-9],  # Nominal center wavelength \n",
    "    )\n",
    "    provenance = dict( \n",
    "        software='Custom Labview Software - Craggs Lab',\n",
    "        filename=parentfolder+\"/\"+folder+\"/\"+filenames[0])\n",
    "    identity = dict(\n",
    "        author= meta[1][3],\n",
    "        author_affiliation=\"University of Sheffield\") #CHANGE THIS WHERE NECESSARY\n",
    "    measurement_specs = dict(\n",
    "        measurement_type = 'smFRET-usALEX',\n",
    "        detectors_specs = {'spectral_ch1': [0],  # list of donor's detector IDs\n",
    "                           'spectral_ch2': [1]},  # list of acceptor's detector IDs,\n",
    "        alex_period = 10000,\n",
    "        alex_offset = 0,\n",
    "        alex_excitation_period1 = (D_ON, D_OFF),\n",
    "        alex_excitation_period2 = (A_ON, A_OFF)\n",
    "        )\n",
    "    photon_data['measurement_specs'] = measurement_specs\n",
    "    data = dict(\n",
    "        description=meta[9],\n",
    "        photon_data = photon_data,\n",
    "        setup=setup,\n",
    "        identity=identity,\n",
    "        provenance=provenance\n",
    "    )\n",
    "    print(\"Done\")\n",
    "    phc.hdf5.save_photon_hdf5(data, h5_fname=savename, overwrite=True)\n",
    "print(\"All complete\")"
   ]
  },
  {
   "cell_type": "code",
   "execution_count": null,
   "metadata": {
    "collapsed": true
   },
   "outputs": [],
   "source": []
  }
 ],
 "metadata": {
  "anaconda-cloud": {},
  "kernelspec": {
   "display_name": "Python 3",
   "language": "python",
   "name": "python3"
  },
  "language_info": {
   "codemirror_mode": {
    "name": "ipython",
    "version": 3
   },
   "file_extension": ".py",
   "mimetype": "text/x-python",
   "name": "python",
   "nbconvert_exporter": "python",
   "pygments_lexer": "ipython3",
   "version": "3.6.3"
  }
 },
 "nbformat": 4,
 "nbformat_minor": 1
}
