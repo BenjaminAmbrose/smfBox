{
 "cells": [
  {
   "cell_type": "markdown",
   "metadata": {},
   "source": [
    "# Converting raw .txt files from labview to fretbursts compatible HDF5 files\n",
    "\n",
    "This notebook will convert the .txt files written by our labview acquisition software into HDF5 files which can be read into other FRETbursts notebooks. \n",
    "\n",
    "It is set up to convert the many txt files created within a folder for a single run into one single coherent HDF5. If you want to convert multiple runs quickly, use the batch converter, which iterates this process through a folder *of* folders"
   ]
  },
  {
   "cell_type": "code",
   "execution_count": 2,
   "metadata": {
    "collapsed": true
   },
   "outputs": [],
   "source": [
    "import phconvert as phc\n",
    "import csv\n",
    "phc.__version__\n",
    "import numpy as np\n",
    "import os"
   ]
  },
  {
   "cell_type": "markdown",
   "metadata": {},
   "source": [
    "Start by naming the folder your files are in, this code will then find all of the files in it, and report which it has found."
   ]
  },
  {
   "cell_type": "code",
   "execution_count": 3,
   "metadata": {},
   "outputs": [
    {
     "name": "stdout",
     "output_type": "stream",
     "text": [
      "Found data files:\n",
      "['itertest/000_Sample_TXT.txt', 'itertest/001_Sample_TXT.txt', 'itertest/002_Sample_TXT.txt', 'itertest/003_Sample_TXT.txt', 'itertest/004_Sample_TXT.txt', 'itertest/005_Sample_TXT.txt', 'itertest/006_Sample_TXT.txt', 'itertest/007_Sample_TXT.txt', 'itertest/008_Sample_TXT.txt', 'itertest/009_Sample_TXT.txt']\n",
      "Found metadata:\n",
      "itertest/Metadata.txt\n"
     ]
    }
   ],
   "source": [
    "folder = 'itertest/' #put the RAW filename here\n",
    "savename = 'itertest/itertest1.hdf5' #put the save location / name herefilenames\n",
    "\n",
    "\n",
    "filenames = [] #LEAVE THIS EMPTY!!!\n",
    "for file in os.listdir(folder):        \n",
    "    if file.endswith(\"T.txt\"):\n",
    "        datafile = file\n",
    "        filenames.append(folder+file)\n",
    "    if file.endswith(\"etadata.txt\"):\n",
    "        metafile = (os.path.join(folder, file))\n",
    "    else:\n",
    "        continue\n",
    "print(\"Found data files:\")\n",
    "print(filenames)\n",
    "print(\"Found metadata:\")\n",
    "print(metafile)"
   ]
  },
  {
   "cell_type": "markdown",
   "metadata": {},
   "source": [
    "Read in the columns from each file and concatenate them. It will report the first and last photons from every file read in. If they do not logically follow on from each other then something has gone wrong."
   ]
  },
  {
   "cell_type": "code",
   "execution_count": 4,
   "metadata": {},
   "outputs": [
    {
     "name": "stdout",
     "output_type": "stream",
     "text": [
      "[   123714    160225    161123 ... 599983745 599984206 599915692]\n",
      "[ 599993950  600032171  600052430 ... 1199971316 1199981047 1199982137]\n",
      "[1200010541 1200050996 1200051844 ... 1799935683 1799951790 1799954167]\n",
      "[1799981344 1799982141 1799990848 ... 2399962206 2399971148 2399908865]\n",
      "[2400000750 2400032669 2400054177 ... 2999932846 2999934343 2999895810]\n",
      "[2999994166 3000002753 3000023043 ... 3599950542 3599876107 3599911627]\n",
      "[3599992196 3600001367 3600012784 ... 4199881395 4199892624 4199925411]\n",
      "[4199963829 4199967127 4199980948 ... 4799930674 4799944358 4799942531]\n",
      "[4799961233 4799970159 4799982500 ... 5399903952 5399921280 5399939415]\n",
      "[5399954271 5399973116 5399981243 ... 6000253252 6000253902 6000301714]\n",
      "done\n"
     ]
    }
   ],
   "source": [
    "detectors = np.empty([0], dtype=int)\n",
    "timestamps = np.empty([0], dtype=int)\n",
    "for file in filenames:\n",
    "    with open(file) as inf:\n",
    "        reader = csv.reader(inf, delimiter=\"\t\")\n",
    "        ftimestamps = list(zip(*reader))[0]    \n",
    "    with open(file) as inf:\n",
    "        reader = csv.reader(inf, delimiter=\"\t\")\n",
    "        fdetectors = list(zip(*reader))[1]\n",
    "    fdetectors = np.asarray(fdetectors)\n",
    "    ftimestamps = np.asarray(ftimestamps)\n",
    "    ftimestamps = np.int64(ftimestamps)\n",
    "    fdetectors = np.uint8(fdetectors)\n",
    "    print(ftimestamps)\n",
    "    timestamps = np.concatenate([timestamps, ftimestamps])\n",
    "    detectors = np.concatenate([detectors, fdetectors]) \n",
    "timestamps = np.int64(timestamps)\n",
    "detectors = np.uint8(detectors)\n",
    "print(\"done\")"
   ]
  },
  {
   "cell_type": "markdown",
   "metadata": {},
   "source": [
    "Now we can create an HDF5 file by combining the data with the metadata"
   ]
  },
  {
   "cell_type": "code",
   "execution_count": 6,
   "metadata": {},
   "outputs": [
    {
     "name": "stdout",
     "output_type": "stream",
     "text": [
      "Saving: itertest/itertest1.hdf5\n"
     ]
    }
   ],
   "source": [
    "with open(metafile) as inf:\n",
    "            reader = csv.reader(inf, delimiter=\":\")\n",
    "            metaread = list(zip(*reader))\n",
    "meta = [x[1:] for x in metaread[1]]\n",
    "D_ON, D_OFF, A_ON, A_OFF = int(meta[10]), int(meta[11]), int(meta[12]), int(meta[13])\n",
    "sample_name = meta[5]\n",
    "buffer_name = meta[8]\n",
    "dye_names = meta[6] + \",\" + meta[7]\n",
    "timestamps_unit = 10e-9  # 10 ns, units are always S.I.\n",
    "photon_data = dict(\n",
    "    timestamps=timestamps,\n",
    "    detectors=detectors,\n",
    "    timestamps_specs={'timestamps_unit': timestamps_unit})\n",
    "setup = dict(\n",
    "    num_pixels = 2,                   # using 2 detectors\n",
    "    num_spots = 1,                    # a single confoca excitation\n",
    "    num_spectral_ch = 2,              # donor and acceptor detection \n",
    "    num_polarization_ch = 1,          # no polarization selection \n",
    "    num_split_ch = 1,                 # no beam splitter\n",
    "    modulated_excitation = False,     # CW excitation, no modulation \n",
    "    excitation_alternated = [True],  # CW excitation, no modulation \n",
    "    lifetime = False,                 # no TCSPC in detection    \n",
    "    excitation_wavelengths = [515e-9, 635e-9],         # List of excitation wavelenghts\n",
    "    excitation_cw = [True],                    # List of booleans, True if wavelength is CW\n",
    "    detection_wavelengths = [580e-9, 690e-9],  # Nominal center wavelength \n",
    ")\n",
    "provenance = dict( \n",
    "    software='Custom Labview Software - Craggs Lab',\n",
    "    filename=filenames[0])\n",
    "identity = dict(\n",
    "    author= meta[1][3],\n",
    "    author_affiliation=\"University of Sheffield\") #CHANGE THIS WHERE NECESSARY\n",
    "measurement_specs = dict(\n",
    "    measurement_type = 'smFRET-usALEX',\n",
    "    detectors_specs = {'spectral_ch1': [0],  # list of donor's detector IDs\n",
    "                       'spectral_ch2': [1]},  # list of acceptor's detector IDs,\n",
    "    alex_period = 10000,\n",
    "    alex_offset = 0,\n",
    "    alex_excitation_period1 = (D_ON, D_OFF),\n",
    "    alex_excitation_period2 = (A_ON, A_OFF)\n",
    "    )\n",
    "photon_data['measurement_specs'] = measurement_specs\n",
    "data = dict(\n",
    "    description=meta[9],\n",
    "    photon_data = photon_data,\n",
    "    setup=setup,\n",
    "    identity=identity,\n",
    "    provenance=provenance\n",
    ")\n",
    "phc.hdf5.save_photon_hdf5(data, h5_fname=savename, overwrite=True)"
   ]
  },
  {
   "cell_type": "code",
   "execution_count": null,
   "metadata": {
    "collapsed": true
   },
   "outputs": [],
   "source": []
  }
 ],
 "metadata": {
  "anaconda-cloud": {},
  "kernelspec": {
   "display_name": "Python 3",
   "language": "python",
   "name": "python3"
  },
  "language_info": {
   "codemirror_mode": {
    "name": "ipython",
    "version": 3
   },
   "file_extension": ".py",
   "mimetype": "text/x-python",
   "name": "python",
   "nbconvert_exporter": "python",
   "pygments_lexer": "ipython3",
   "version": "3.6.3"
  }
 },
 "nbformat": 4,
 "nbformat_minor": 1
}
