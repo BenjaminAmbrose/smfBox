{
 "cells": [
  {
   "cell_type": "markdown",
   "metadata": {},
   "source": [
    "# Multiple file run converter\n",
    "\n",
    "This notebook will find multiple files from a single run within a folder, and the metadata file then convert them. This is useful if you have set the acquisition software to take for example, an hour long acquisition, but with 10 minute long files.\n",
    "\n",
    "It works directly off of the naming and file structure created by the acquisition software. Do not move any files outside of the folder or it will not work, see the website for more details."
   ]
  },
  {
   "cell_type": "code",
   "execution_count": null,
   "metadata": {
    "collapsed": true
   },
   "outputs": [],
   "source": [
    "import phconvert as phc\n",
    "import csv\n",
    "phc.__version__\n",
    "import numpy as np\n",
    "import os"
   ]
  },
  {
   "cell_type": "markdown",
   "metadata": {},
   "source": [
    "Start by naming the folder your files are in, this code will then find all of the files in it, and report which it has found."
   ]
  },
  {
   "cell_type": "code",
   "execution_count": null,
   "metadata": {
    "collapsed": true
   },
   "outputs": [],
   "source": [
    "folder = 'accuratefretstandards/' #put the RAW filename here\n",
    "savename = 'accratefretstandards/1a.hdf5' #put the save location / name herefilenames\n",
    "\n",
    "\n",
    "filenames = [] #LEAVE THIS EMPTY!!!\n",
    "for file in os.listdir(folder):        \n",
    "    if file.endswith(\"T.txt\"):\n",
    "        datafile = file\n",
    "        filenames.append(folder+file)\n",
    "    if file.endswith(\"etadata.txt\"):\n",
    "        metafile = (os.path.join(folder, file))\n",
    "    else:\n",
    "        continue\n",
    "print(\"Found data files:\")\n",
    "print(filenames)\n",
    "print(\"Found metadata:\")\n",
    "print(metafile)"
   ]
  },
  {
   "cell_type": "markdown",
   "metadata": {},
   "source": [
    "Read in the columns from each file and concatenate them. It will report the first and last photons from every file read in. If they do not logically follow on from each other then something has gone wrong."
   ]
  },
  {
   "cell_type": "code",
   "execution_count": null,
   "metadata": {},
   "outputs": [],
   "source": [
    "detectors = np.empty([0], dtype=int)\n",
    "timestamps = np.empty([0], dtype=int)\n",
    "for file in filenames:\n",
    "    with open(file) as inf:\n",
    "        reader = csv.reader(inf, delimiter=\"\t\")\n",
    "        ftimestamps = list(zip(*reader))[0]    \n",
    "    with open(file) as inf:\n",
    "        reader = csv.reader(inf, delimiter=\"\t\")\n",
    "        fdetectors = list(zip(*reader))[1]\n",
    "    fdetectors = np.asarray(fdetectors)\n",
    "    ftimestamps = np.asarray(ftimestamps)\n",
    "    ftimestamps = np.int64(ftimestamps)\n",
    "    fdetectors = np.uint8(fdetectors)\n",
    "    print(ftimestamps)\n",
    "    timestamps = np.concatenate([timestamps, ftimestamps])\n",
    "    detectors = np.concatenate([detectors, fdetectors]) \n",
    "timestamps = np.int64(timestamps)\n",
    "detectors = np.uint8(detectors)\n",
    "print(\"done\")"
   ]
  },
  {
   "cell_type": "markdown",
   "metadata": {},
   "source": [
    "Now we can create an HDF5 file by combining the data with the metadata"
   ]
  },
  {
   "cell_type": "code",
   "execution_count": null,
   "metadata": {},
   "outputs": [],
   "source": [
    "with open(metafile, 'r') as file:\n",
    "  metadata = \"\".join(line.rstrip() for line in file)\n",
    "params = ('Acquistion time per file (mins): ', 'Donor Laser Intensity: ', 'Acceptor Laser Intensity: ', 'Users: ', 'Approximate Fluorophore Concentration: ',\n",
    "             'Sample details: ', 'Donor Label: ', 'Acceptor Label: ', 'Buffer: ', 'Notes: ',\n",
    "            'D_ON: ', 'D_OFF: ', 'A_ON: ', 'A_OFF: ',)\n",
    "def meta(number):\n",
    "    param = metadata[metadata.find(params[number])+len(params[number]):metadata.rfind(params[number+1])]\n",
    "    return(param)\n",
    "D_ON, D_OFF, A_ON,= int(meta(10)), int(meta(11)), int(meta(12))\n",
    "A_OFF = int(metadata[metadata.find(params[13])+len(params[13]):])\n",
    "sample_name = meta(5)\n",
    "buffer_name = meta(8)\n",
    "dye_names = meta(6) + \",\" + meta(7)\n",
    "timestamps_unit = 10e-9  # 10 ns, units are always S.I.\n",
    "photon_data = dict(\n",
    "    timestamps=timestamps,\n",
    "    detectors=detectors,\n",
    "    timestamps_specs={'timestamps_unit': timestamps_unit})\n",
    "setup = dict(\n",
    "    num_pixels = 2,                   # using 2 detectors\n",
    "    num_spots = 1,                    # a single confoca excitation\n",
    "    num_spectral_ch = 2,              # donor and acceptor detection \n",
    "    num_polarization_ch = 1,          # no polarization selection \n",
    "    num_split_ch = 1,                 # no beam splitter\n",
    "    modulated_excitation = False,     # CW excitation, no modulation \n",
    "    excitation_alternated = [True],  # CW excitation, no modulation \n",
    "    lifetime = False,                 # no TCSPC in detection    \n",
    "    excitation_wavelengths = [515e-9, 635e-9],         # List of excitation wavelenghts\n",
    "    excitation_cw = [True],                    # List of booleans, True if wavelength is CW\n",
    "    detection_wavelengths = [580e-9, 690e-9],  # Nominal center wavelength \n",
    ")\n",
    "identity = dict(\n",
    "    author= meta(3),\n",
    "    author_affiliation=\"University of Sheffield\") #CHANGE THIS WHERE NECESSARY\n",
    "measurement_specs = dict(\n",
    "    measurement_type = 'smFRET-usALEX',\n",
    "    detectors_specs = {'spectral_ch1': [0],  # list of donor's detector IDs\n",
    "                       'spectral_ch2': [1]},  # list of acceptor's detector IDs,\n",
    "    alex_period = 10000,\n",
    "    alex_offset = 0,\n",
    "    alex_excitation_period1 = (D_ON, D_OFF),\n",
    "    alex_excitation_period2 = (A_ON, A_OFF)\n",
    "    )\n",
    "photon_data['measurement_specs'] = measurement_specs\n",
    "data = dict(\n",
    "    description=meta(9),\n",
    "    photon_data = photon_data,\n",
    "    setup=setup,\n",
    "    identity=identity,\n",
    ")\n",
    "phc.hdf5.save_photon_hdf5(data, h5_fname=savename, overwrite=True)"
   ]
  },
  {
   "cell_type": "code",
   "execution_count": null,
   "metadata": {
    "collapsed": true
   },
   "outputs": [],
   "source": []
  }
 ],
 "metadata": {
  "anaconda-cloud": {},
  "kernelspec": {
   "display_name": "Python 3",
   "language": "python",
   "name": "python3"
  },
  "language_info": {
   "codemirror_mode": {
    "name": "ipython",
    "version": 3
   },
   "file_extension": ".py",
   "mimetype": "text/x-python",
   "name": "python",
   "nbconvert_exporter": "python",
   "pygments_lexer": "ipython3",
   "version": "3.6.3"
  }
 },
 "nbformat": 4,
 "nbformat_minor": 1
}
