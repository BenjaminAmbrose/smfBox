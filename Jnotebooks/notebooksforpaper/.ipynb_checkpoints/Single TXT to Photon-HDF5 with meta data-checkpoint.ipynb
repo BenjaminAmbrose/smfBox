{
 "cells": [
  {
   "cell_type": "markdown",
   "metadata": {},
   "source": [
    "# Converting raw .txt files from labview to fretbursts compatible HDF5 files\n",
    "\n",
    "This notebook will convert the .txt files written by our labview acquisition software into HDF5 files which can be read into other FRETbursts notebooks. \n",
    "\n",
    "It also reads in the metadata file "
   ]
  },
  {
   "cell_type": "code",
   "execution_count": 2,
   "metadata": {
    "collapsed": true
   },
   "outputs": [],
   "source": [
    "import phconvert as phc\n",
    "import csv\n",
    "phc.__version__\n",
    "import numpy as np\n",
    "import os"
   ]
  },
  {
   "cell_type": "markdown",
   "metadata": {},
   "source": [
    "# 1.  Read in data"
   ]
  },
  {
   "cell_type": "code",
   "execution_count": 49,
   "metadata": {},
   "outputs": [
    {
     "name": "stdout",
     "output_type": "stream",
     "text": [
      "0000\n",
      "0001\n",
      "0002\n",
      "0003\n",
      "0004\n"
     ]
    }
   ],
   "source": [
    "for folder in next(os.walk(\"Glaserpower/try3\"))[1]:\n",
    "    print(folder)"
   ]
  },
  {
   "cell_type": "code",
   "execution_count": 4,
   "metadata": {
    "collapsed": true
   },
   "outputs": [],
   "source": [
    "raw = 'glaserpower/try3/50.txt'\n",
    "metadata = \"glaserpower/try3/metadata.txt\"\n",
    "savename = 'glaserpower/try3/50.hdf5'"
   ]
  },
  {
   "cell_type": "code",
   "execution_count": 5,
   "metadata": {},
   "outputs": [
    {
     "name": "stdout",
     "output_type": "stream",
     "text": [
      "Data file found, you can proceed.\n"
     ]
    }
   ],
   "source": [
    "try:\n",
    "    with open(raw): pass\n",
    "    print('Data file found, you can proceed.')\n",
    "except IOError:\n",
    "    print('ATTENTION: Data file not found, please check the filename.\\n'\n",
    "          '           (current value \"%s\")' % raw)"
   ]
  },
  {
   "cell_type": "code",
   "execution_count": 6,
   "metadata": {
    "collapsed": true
   },
   "outputs": [],
   "source": [
    "with open(raw) as inf:\n",
    "    reader = csv.reader(inf, delimiter=\"\t\")\n",
    "    timestamps = list(zip(*reader))[0]\n",
    "    \n",
    "with open(raw) as inf:\n",
    "    reader = csv.reader(inf, delimiter=\"\t\")\n",
    "    detectors = list(zip(*reader))[1]\n",
    "\n",
    "detectors = np.asarray(detectors)\n",
    "timestamps = np.asarray(timestamps)\n",
    "\n",
    "\n",
    "timestamps = np.int64(timestamps)\n",
    "detectors = np.uint8(detectors)"
   ]
  },
  {
   "cell_type": "code",
   "execution_count": 28,
   "metadata": {},
   "outputs": [
    {
     "data": {
      "text/plain": [
       "' Cy3B, Atto647N'"
      ]
     },
     "execution_count": 28,
     "metadata": {},
     "output_type": "execute_result"
    }
   ],
   "source": [
    "with open(metadata) as inf:\n",
    "    reader = csv.reader(inf, delimiter=\":\")\n",
    "    metastuff = list(zip(*reader))\n",
    "metastuff[0]\n",
    "User = metastuff[1][3]\n",
    "Acquitime = metastuff[1][0]\n",
    "Dpower = metastuff[1][1]\n",
    "Apower = metastuff[1][2]\n",
    "Fluorconc = metastuff[1][4]\n",
    "Sampdetails = metastuff[1][5]\n",
    "Donor = metastuff[1][6]\n",
    "Acceptor = metastuff[1][7]\n",
    "buffer = metastuff[1][8]\n",
    "Notes = metastuff[1][9]\n",
    "DYES = Donor + \",\" + Acceptor\n",
    "DYES"
   ]
  },
  {
   "cell_type": "markdown",
   "metadata": {},
   "source": [
    "# 2. Create some metadata"
   ]
  },
  {
   "cell_type": "code",
   "execution_count": 29,
   "metadata": {
    "collapsed": true
   },
   "outputs": [],
   "source": [
    "description = Notes\n",
    "\n",
    "author = User\n",
    "author_affiliation = \"University of Sheffield\"\n",
    "\n",
    "sample_name = Sampdetails\n",
    "buffer_name = buffer\n",
    "dye_names = DYES  # Comma separates names of fluorophores"
   ]
  },
  {
   "cell_type": "markdown",
   "metadata": {},
   "source": [
    "# 3. Create Photon-HDF5 data structure"
   ]
  },
  {
   "cell_type": "code",
   "execution_count": 30,
   "metadata": {
    "collapsed": true
   },
   "outputs": [],
   "source": [
    "timestamps_unit = 10e-9  # 10 ns, units are always S.I.\n",
    "photon_data = dict(\n",
    "    timestamps=timestamps,\n",
    "    detectors=detectors,\n",
    "    timestamps_specs={'timestamps_unit': timestamps_unit})"
   ]
  },
  {
   "cell_type": "markdown",
   "metadata": {},
   "source": [
    "## 3.2 `setup` group"
   ]
  },
  {
   "cell_type": "code",
   "execution_count": 31,
   "metadata": {
    "collapsed": true
   },
   "outputs": [],
   "source": [
    "setup = dict(\n",
    "    ## Mandatory fields\n",
    "    num_pixels = 2,                   # using 2 detectors\n",
    "    num_spots = 1,                    # a single confoca excitation\n",
    "    num_spectral_ch = 2,              # donor and acceptor detection \n",
    "    num_polarization_ch = 1,          # no polarization selection \n",
    "    num_split_ch = 1,                 # no beam splitter\n",
    "    modulated_excitation = False,     # CW excitation, no modulation \n",
    "    excitation_alternated = [True],  # CW excitation, no modulation \n",
    "    lifetime = False,                 # no TCSPC in detection    \n",
    "    ## Optional fields\n",
    "    excitation_wavelengths = [515e-9, 638e-9],         # List of excitation wavelenghts\n",
    "    excitation_cw = [True],                    # List of booleans, True if wavelength is CW\n",
    "    detection_wavelengths = [580e-9, 690e-9],  # Nominal center wavelength \n",
    "                                               # each for detection ch\n",
    ")"
   ]
  },
  {
   "cell_type": "markdown",
   "metadata": {},
   "source": [
    "## 3.3 `provenance` group"
   ]
  },
  {
   "cell_type": "code",
   "execution_count": 32,
   "metadata": {
    "collapsed": true
   },
   "outputs": [],
   "source": [
    "provenance = dict(\n",
    "    filename=raw, \n",
    "    software='Custom Labview Software - Craggs Lab')"
   ]
  },
  {
   "cell_type": "markdown",
   "metadata": {},
   "source": [
    "## 3.4 `identity` group"
   ]
  },
  {
   "cell_type": "code",
   "execution_count": 33,
   "metadata": {
    "collapsed": true
   },
   "outputs": [],
   "source": [
    "identity = dict(\n",
    "    author=author,\n",
    "    author_affiliation=author_affiliation)"
   ]
  },
  {
   "cell_type": "markdown",
   "metadata": {},
   "source": [
    "## 3.5 `measurement_specs` group"
   ]
  },
  {
   "cell_type": "code",
   "execution_count": 34,
   "metadata": {
    "collapsed": true
   },
   "outputs": [],
   "source": [
    "measurement_specs = dict(\n",
    "    measurement_type = 'smFRET-usALEX',\n",
    "    detectors_specs = {'spectral_ch1': [0],  # list of donor's detector IDs\n",
    "                       'spectral_ch2': [1]},  # list of acceptor's detector IDs,\n",
    "    alex_period = 10000,\n",
    "    )"
   ]
  },
  {
   "cell_type": "markdown",
   "metadata": {},
   "source": [
    "# 4. Save Photon-HDF5 files"
   ]
  },
  {
   "cell_type": "code",
   "execution_count": 35,
   "metadata": {
    "collapsed": true
   },
   "outputs": [],
   "source": [
    "photon_data['measurement_specs'] = measurement_specs\n",
    "\n",
    "data = dict(\n",
    "    description=description,\n",
    "    photon_data = photon_data,\n",
    "    setup=setup,\n",
    "    identity=identity,\n",
    "    provenance=provenance\n",
    ")"
   ]
  },
  {
   "cell_type": "code",
   "execution_count": 37,
   "metadata": {},
   "outputs": [
    {
     "name": "stdout",
     "output_type": "stream",
     "text": [
      "Saving: glaserpower/try3/50.hdf5\n",
      "Done\n"
     ]
    }
   ],
   "source": [
    "phc.hdf5.save_photon_hdf5(data, h5_fname=savename, overwrite=True)\n",
    "print(\"Done\")"
   ]
  },
  {
   "cell_type": "markdown",
   "metadata": {},
   "source": [
    "> **NOTE:** a user of this file can correctly interpret the data\n",
    "> reading that the measurement type is 'smFRET' (meaning smFRET with single laser\n",
    "> excitation and 2-colors detection) and the IDs of donor and acceptor detectors\n",
    "> (from `detectors_specs/spectral_ch1` and `spectral_ch2` respectively)."
   ]
  }
 ],
 "metadata": {
  "anaconda-cloud": {},
  "kernelspec": {
   "display_name": "Python 3",
   "language": "python",
   "name": "python3"
  },
  "language_info": {
   "codemirror_mode": {
    "name": "ipython",
    "version": 3
   },
   "file_extension": ".py",
   "mimetype": "text/x-python",
   "name": "python",
   "nbconvert_exporter": "python",
   "pygments_lexer": "ipython3",
   "version": "3.6.3"
  }
 },
 "nbformat": 4,
 "nbformat_minor": 1
}
