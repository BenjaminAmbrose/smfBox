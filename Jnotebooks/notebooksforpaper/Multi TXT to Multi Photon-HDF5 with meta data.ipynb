{
 "cells": [
  {
   "cell_type": "markdown",
   "metadata": {},
   "source": [
    "# Converting multiple TXT's straight off the acquisition computer to individual HDF5's\n",
    "\n",
    "This notebook will convert a whole folder of files each to their respective HDF5's, incorporating metadata. It works off the existing file structure created by labview saving."
   ]
  },
  {
   "cell_type": "code",
   "execution_count": 1,
   "metadata": {
    "collapsed": true
   },
   "outputs": [],
   "source": [
    "import phconvert as phc\n",
    "import csv\n",
    "phc.__version__\n",
    "import numpy as np\n",
    "import os"
   ]
  },
  {
   "cell_type": "markdown",
   "metadata": {},
   "source": [
    "Point this at a folder which contains folders, which contain data and metadata files together. It will find the data files and metadata files in each folder and create a single HDF5 for each, named according the name you gave the data file (it will automatically chop off the annoying numbers at the beginning and end)."
   ]
  },
  {
   "cell_type": "code",
   "execution_count": 3,
   "metadata": {
    "collapsed": true
   },
   "outputs": [],
   "source": [
    "parentfolder = \"definitiveset/\" #THE DASH AT THE END IS IMPORTANT"
   ]
  },
  {
   "cell_type": "markdown",
   "metadata": {},
   "source": [
    "# 1.  Read in data"
   ]
  },
  {
   "cell_type": "code",
   "execution_count": 4,
   "metadata": {},
   "outputs": [
    {
     "name": "stdout",
     "output_type": "stream",
     "text": [
      "converting  001_1A0_TXT.txt\n",
      "Saving: definitiveset/1A0.hdf5\n",
      "Saved\n",
      "converting  001_1A1_TXT.txt\n",
      "Saving: definitiveset/1A1.hdf5\n",
      "Saved\n",
      "converting  001_1A2_TXT.txt\n",
      "Saving: definitiveset/1A2.hdf5\n",
      "Saved\n",
      "converting  001_1B1_TXT.txt\n",
      "Saving: definitiveset/1B1.hdf5\n",
      "Saved\n",
      "converting  001_1B2_TXT.txt\n",
      "Saving: definitiveset/1B2.hdf5\n",
      "Saved\n",
      "converting  001_1C1_TXT.txt\n",
      "Saving: definitiveset/1C1.hdf5\n",
      "Saved\n",
      "converting  001_1C2_TXT.txt\n",
      "Saving: definitiveset/1C2.hdf5\n",
      "Saved\n",
      "converting  001_6A1_TXT.txt\n",
      "Saving: definitiveset/6A1.hdf5\n",
      "Saved\n",
      "All done\n"
     ]
    }
   ],
   "source": [
    "for folder in next(os.walk(parentfolder))[1]:\n",
    "    for file in os.listdir(parentfolder+folder):        \n",
    "        if file.endswith(\"T.txt\"):\n",
    "            datafile = file\n",
    "            print(\"converting \", file)\n",
    "        if file.endswith(\"etadata.txt\"):\n",
    "            metafile = (os.path.join(parentfolder+folder, file))\n",
    "        else:\n",
    "            continue\n",
    "        savename = datafile[:-8] #these two lines truncate the filename to remove the numbers\n",
    "        savename = savename[4:]\n",
    "        savename = parentfolder+savename + \".hdf5\"\n",
    "        datafilefull = (parentfolder+folder+\"/\"+datafile)\n",
    "        with open(datafilefull) as inf:                    #everything from here onwards is just normal conversion\n",
    "            reader = csv.reader(inf, delimiter=\"\t\")\n",
    "            timestamps = list(zip(*reader))[0]    \n",
    "        with open(datafilefull) as inf:\n",
    "            reader = csv.reader(inf, delimiter=\"\t\")\n",
    "            detectors = list(zip(*reader))[1]\n",
    "        detectors = np.asarray(detectors)\n",
    "        timestamps = np.asarray(timestamps)\n",
    "        timestamps = np.int64(timestamps)\n",
    "        detectors = np.uint8(detectors)\n",
    "        with open(metafile) as inf:\n",
    "            reader = csv.reader(inf, delimiter=\":\")\n",
    "            metastuff = list(zip(*reader))\n",
    "        User = metastuff[1][3]\n",
    "        Acquitime = metastuff[1][0]\n",
    "        Dpower = metastuff[1][1]\n",
    "        Apower = metastuff[1][2]\n",
    "        Fluorconc = metastuff[1][4]\n",
    "        Sampdetails = metastuff[1][5]\n",
    "        Donor = metastuff[1][6]\n",
    "        Acceptor = metastuff[1][7]\n",
    "        buffer = metastuff[1][8]\n",
    "        Notes = metastuff[1][9]\n",
    "        DYES = Donor + \",\" + Acceptor\n",
    "        description = Notes\n",
    "        author = User\n",
    "        author_affiliation = \"University of Sheffield\"\n",
    "        sample_name = Sampdetails\n",
    "        buffer_name = buffer\n",
    "        dye_names = DYES\n",
    "        timestamps_unit = 10e-9  # 10 ns, units are always S.I.\n",
    "        photon_data = dict(\n",
    "            timestamps=timestamps,\n",
    "            detectors=detectors,\n",
    "            timestamps_specs={'timestamps_unit': timestamps_unit})\n",
    "        setup = dict(\n",
    "            num_pixels = 2,                   # using 2 detectors\n",
    "            num_spots = 1,                    # a single confoca excitation\n",
    "            num_spectral_ch = 2,              # donor and acceptor detection \n",
    "            num_polarization_ch = 1,          # no polarization selection \n",
    "            num_split_ch = 1,                 # no beam splitter\n",
    "            modulated_excitation = False,     # CW excitation, no modulation \n",
    "            excitation_alternated = [True],  # CW excitation, no modulation \n",
    "            lifetime = False,                 # no TCSPC in detection    \n",
    "            excitation_wavelengths = [515e-9, 638e-9],         # List of excitation wavelenghts\n",
    "            excitation_cw = [True],                    # List of booleans, True if wavelength is CW\n",
    "            detection_wavelengths = [580e-9, 690e-9],  # Nominal center wavelength \n",
    "        )\n",
    "        provenance = dict(\n",
    "            filename=datafilefull, \n",
    "            software='Custom Labview Software - Craggs Lab')\n",
    "        identity = dict(\n",
    "            author=author,\n",
    "            author_affiliation=author_affiliation)\n",
    "        measurement_specs = dict(\n",
    "            measurement_type = 'smFRET-usALEX',\n",
    "            detectors_specs = {'spectral_ch1': [0],  # list of donor's detector IDs\n",
    "                               'spectral_ch2': [1]},  # list of acceptor's detector IDs,\n",
    "            alex_period = 10000,\n",
    "            )\n",
    "        photon_data['measurement_specs'] = measurement_specs\n",
    "        data = dict(\n",
    "            description=description,\n",
    "            photon_data = photon_data,\n",
    "            setup=setup,\n",
    "            identity=identity,\n",
    "            provenance=provenance\n",
    "        )\n",
    "        phc.hdf5.save_photon_hdf5(data, h5_fname=savename, overwrite=True)\n",
    "        print(\"Saved\")\n",
    "print(\"All done\")"
   ]
  },
  {
   "cell_type": "code",
   "execution_count": null,
   "metadata": {
    "collapsed": true
   },
   "outputs": [],
   "source": []
  }
 ],
 "metadata": {
  "anaconda-cloud": {},
  "kernelspec": {
   "display_name": "Python 3",
   "language": "python",
   "name": "python3"
  },
  "language_info": {
   "codemirror_mode": {
    "name": "ipython",
    "version": 3
   },
   "file_extension": ".py",
   "mimetype": "text/x-python",
   "name": "python",
   "nbconvert_exporter": "python",
   "pygments_lexer": "ipython3",
   "version": "3.6.3"
  }
 },
 "nbformat": 4,
 "nbformat_minor": 1
}
